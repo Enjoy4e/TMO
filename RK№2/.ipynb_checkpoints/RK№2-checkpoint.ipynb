{
 "cells": [
  {
   "cell_type": "markdown",
   "metadata": {},
   "source": [
    "# Рубежный контроль №2\n",
    "## Вариант №10\n",
    "### Выполнил: Ли М.В. \n",
    "### Группа: ИУ5-64Б \n",
    "### Задание: \n",
    "### Линейная/логистическая регрессия\tГрадиентный бустинг\n",
    " Для заданного набора данных (по Вашему варианту) постройте модели классификации или регрессии (в зависимости от конкретной задачи, рассматриваемой в наборе данных). Для построения моделей используйте методы 1 и 2 (по варианту для Вашей группы). Оцените качество моделей на основе подходящих метрик качества (не менее двух метрик). Какие метрики качества Вы использовали и почему? Какие выводы Вы можете сделать о качестве построенных моделей? Для построения моделей необходимо выполнить требуемую предобработку данных: заполнение пропусков, кодирование категориальных признаков, и т.д.\n",
    " "
   ]
  },
  {
   "cell_type": "markdown",
   "metadata": {},
   "source": [
    "### Импорт библиотек: "
   ]
  },
  {
   "cell_type": "code",
   "execution_count": 1,
   "metadata": {},
   "outputs": [],
   "source": [
    "import pandas as pd\n",
    "import numpy as np\n",
    "from sklearn.impute import SimpleImputer\n",
    "from sklearn.impute import MissingIndicator\n",
    "from sklearn.preprocessing import LabelEncoder, StandardScaler\n",
    "from sklearn.model_selection import train_test_split\n",
    "from sklearn.metrics import balanced_accuracy_score, plot_roc_curve, confusion_matrix\n",
    "import seaborn as sns\n",
    "import matplotlib.pyplot as plt\n",
    "%matplotlib inline\n",
    "\n",
    "from sklearn.linear_model import LogisticRegression\n",
    "from sklearn.ensemble import GradientBoostingClassifier"
   ]
  },
  {
   "cell_type": "code",
   "execution_count": 4,
   "metadata": {},
   "outputs": [],
   "source": [
    "# отбираем 5000 строк из всего датасета\n",
    "data = pd.read_csv('data/hotel_bookings.csv', nrows=5000)"
   ]
  },
  {
   "cell_type": "code",
   "execution_count": 5,
   "metadata": {},
   "outputs": [
    {
     "name": "stdout",
     "output_type": "stream",
     "text": [
      "<class 'pandas.core.frame.DataFrame'>\n",
      "RangeIndex: 5000 entries, 0 to 4999\n",
      "Data columns (total 32 columns):\n",
      " #   Column                          Non-Null Count  Dtype  \n",
      "---  ------                          --------------  -----  \n",
      " 0   hotel                           5000 non-null   object \n",
      " 1   is_canceled                     5000 non-null   int64  \n",
      " 2   lead_time                       5000 non-null   int64  \n",
      " 3   arrival_date_year               5000 non-null   int64  \n",
      " 4   arrival_date_month              5000 non-null   object \n",
      " 5   arrival_date_week_number        5000 non-null   int64  \n",
      " 6   arrival_date_day_of_month       5000 non-null   int64  \n",
      " 7   stays_in_weekend_nights         5000 non-null   int64  \n",
      " 8   stays_in_week_nights            5000 non-null   int64  \n",
      " 9   adults                          5000 non-null   int64  \n",
      " 10  children                        5000 non-null   int64  \n",
      " 11  babies                          5000 non-null   int64  \n",
      " 12  meal                            5000 non-null   object \n",
      " 13  country                         4998 non-null   object \n",
      " 14  market_segment                  5000 non-null   object \n",
      " 15  distribution_channel            5000 non-null   object \n",
      " 16  is_repeated_guest               5000 non-null   int64  \n",
      " 17  previous_cancellations          5000 non-null   int64  \n",
      " 18  previous_bookings_not_canceled  5000 non-null   int64  \n",
      " 19  reserved_room_type              5000 non-null   object \n",
      " 20  assigned_room_type              5000 non-null   object \n",
      " 21  booking_changes                 5000 non-null   int64  \n",
      " 22  deposit_type                    5000 non-null   object \n",
      " 23  agent                           4186 non-null   float64\n",
      " 24  company                         292 non-null    float64\n",
      " 25  days_in_waiting_list            5000 non-null   int64  \n",
      " 26  customer_type                   5000 non-null   object \n",
      " 27  adr                             5000 non-null   float64\n",
      " 28  required_car_parking_spaces     5000 non-null   int64  \n",
      " 29  total_of_special_requests       5000 non-null   int64  \n",
      " 30  reservation_status              5000 non-null   object \n",
      " 31  reservation_status_date         5000 non-null   object \n",
      "dtypes: float64(3), int64(17), object(12)\n",
      "memory usage: 1.2+ MB\n"
     ]
    }
   ],
   "source": [
    "data.info()"
   ]
  },
  {
   "cell_type": "code",
   "execution_count": 6,
   "metadata": {},
   "outputs": [
    {
     "data": {
      "text/plain": [
       "company                           94.16\n",
       "agent                             16.28\n",
       "country                            0.04\n",
       "lead_time                          0.00\n",
       "arrival_date_year                  0.00\n",
       "arrival_date_month                 0.00\n",
       "arrival_date_week_number           0.00\n",
       "is_canceled                        0.00\n",
       "market_segment                     0.00\n",
       "arrival_date_day_of_month          0.00\n",
       "stays_in_weekend_nights            0.00\n",
       "stays_in_week_nights               0.00\n",
       "adults                             0.00\n",
       "children                           0.00\n",
       "babies                             0.00\n",
       "meal                               0.00\n",
       "reservation_status_date            0.00\n",
       "distribution_channel               0.00\n",
       "reservation_status                 0.00\n",
       "is_repeated_guest                  0.00\n",
       "previous_cancellations             0.00\n",
       "previous_bookings_not_canceled     0.00\n",
       "reserved_room_type                 0.00\n",
       "assigned_room_type                 0.00\n",
       "booking_changes                    0.00\n",
       "deposit_type                       0.00\n",
       "days_in_waiting_list               0.00\n",
       "customer_type                      0.00\n",
       "adr                                0.00\n",
       "required_car_parking_spaces        0.00\n",
       "total_of_special_requests          0.00\n",
       "hotel                              0.00\n",
       "dtype: float64"
      ]
     },
     "execution_count": 6,
     "metadata": {},
     "output_type": "execute_result"
    }
   ],
   "source": [
    "# Проверяем процент пропусков в данных для всех колонок\n",
    "(data.isnull().sum()/data.shape[0]*100).sort_values(ascending=False)"
   ]
  },
  {
   "cell_type": "code",
   "execution_count": 7,
   "metadata": {},
   "outputs": [
    {
     "data": {
      "text/plain": [
       "Text(0.5, 1.0, 'Distribution of agent')"
      ]
     },
     "execution_count": 7,
     "metadata": {},
     "output_type": "execute_result"
    },
    {
     "data": {
      "image/png": "[encoded data removed]",
      "text/plain": [
       "<Figure size 432x288 with 1 Axes>"
      ]
     },
     "metadata": {
      "needs_background": "light"
     },
     "output_type": "display_data"
    }
   ],
   "source": [
    "# Строим гистограмму распределения для импутируемого признака\n",
    "g = sns.kdeplot(data=data, x=\"agent\", shade=True)\n",
    "g.set_xlabel(\"agent\", size = 15)\n",
    "g.set_ylabel(\"Frequency\", size = 15)\n",
    "plt.title('Distribution of agent', size = 18)"
   ]
  },
  {
   "cell_type": "markdown",
   "metadata": {},
   "source": [
    "Удалим строки, содержащие пропуски в столбце Country, так как оно имеет 0,04% пропусков;\n",
    "\n",
    "Для пропущенных значений в столбце agent сделаем импутацию медианой, так как оно имеет 16,28% пропусков;\n",
    "\n",
    "Удалим столбец Company, так как он имеет больше 90% пропусков"
   ]
  },
  {
   "cell_type": "code",
   "execution_count": 8,
   "metadata": {},
   "outputs": [],
   "source": [
    "data.drop(['company'], axis=1, inplace=True)"
   ]
  },
  {
   "cell_type": "code",
   "execution_count": 9,
   "metadata": {},
   "outputs": [],
   "source": [
    "\n",
    "data.dropna(subset=['country'], axis=0, inplace=True)"
   ]
  },
  {
   "cell_type": "code",
   "execution_count": 10,
   "metadata": {},
   "outputs": [
    {
     "name": "stdout",
     "output_type": "stream",
     "text": [
      "agent; median; 812; 240.0; 240.0\n"
     ]
    }
   ],
   "source": [
    "indicator = MissingIndicator()\n",
    "mask_missing_values_only = indicator.fit_transform(data[['agent']])\n",
    "imp_num = SimpleImputer(strategy='median')\n",
    "data_num_imp = imp_num.fit_transform(data[['agent']])\n",
    "data['agent'] = data_num_imp\n",
    "filled_data = data_num_imp[mask_missing_values_only]\n",
    "print('agent', 'median', filled_data.size, filled_data[0], filled_data[filled_data.size-1], sep='; ')"
   ]
  },
  {
   "cell_type": "code",
   "execution_count": 11,
   "metadata": {},
   "outputs": [
    {
     "data": {
      "text/plain": [
       "Text(0.5, 1.0, 'Distribution of agent')"
      ]
     },
     "execution_count": 11,
     "metadata": {},
     "output_type": "execute_result"
    },
    {
     "data": {
      "image/png": "[encoded data removed]",
      "text/plain": [
       "<Figure size 432x288 with 1 Axes>"
      ]
     },
     "metadata": {
      "needs_background": "light"
     },
     "output_type": "display_data"
    }
   ],
   "source": [
    "\n",
    "# Проверяем, что импутация не разрушила распределение\n",
    "g = sns.kdeplot(data=data, x=\"agent\", shade=True)\n",
    "g.set_xlabel(\"agent\", size = 15)\n",
    "g.set_ylabel(\"Frequency\", size = 15)\n",
    "plt.title('Distribution of agent', size = 18)"
   ]
  },
  {
   "cell_type": "code",
   "execution_count": 12,
   "metadata": {},
   "outputs": [],
   "source": [
    "# Копируем датасет и применяем label-encoding категориальных признаков для составления корреляционной матрицы \n",
    "dataLE = data.copy()\n",
    "le = LabelEncoder()\n",
    "col_obj = dataLE.dtypes[dataLE.dtypes==object].index.values.tolist()\n",
    "for i in col_obj:\n",
    "    dataLE[i] = le.fit_transform(dataLE[i])\n"
   ]
  },
  {
   "cell_type": "code",
   "execution_count": 13,
   "metadata": {},
   "outputs": [
    {
     "data": {
      "text/plain": [
       "is_canceled                       100.000000\n",
       "country                            52.533878\n",
       "arrival_date_year                  29.437152\n",
       "deposit_type                       19.751308\n",
       "lead_time                           7.588779\n",
       "market_segment                      5.883349\n",
       "distribution_channel                4.700574\n",
       "adults                              4.537695\n",
       "stays_in_weekend_nights             2.942242\n",
       "children                            2.469151\n",
       "stays_in_week_nights                0.049425\n",
       "reservation_status_date            -0.040024\n",
       "customer_type                      -0.979502\n",
       "meal                               -1.987424\n",
       "reserved_room_type                 -2.664975\n",
       "babies                             -2.954529\n",
       "agent                              -3.553828\n",
       "arrival_date_day_of_month          -3.558175\n",
       "adr                                -4.973463\n",
       "total_of_special_requests          -8.264548\n",
       "days_in_waiting_list              -11.344538\n",
       "arrival_date_month                -16.216285\n",
       "booking_changes                   -18.118893\n",
       "assigned_room_type                -19.255699\n",
       "arrival_date_week_number          -24.489474\n",
       "required_car_parking_spaces       -29.537194\n",
       "reservation_status                -87.450209\n",
       "hotel                                    NaN\n",
       "is_repeated_guest                        NaN\n",
       "previous_cancellations                   NaN\n",
       "previous_bookings_not_canceled           NaN\n",
       "Name: is_canceled, dtype: float64"
      ]
     },
     "execution_count": 13,
     "metadata": {},
     "output_type": "execute_result"
    }
   ],
   "source": [
    "(dataLE.corr()['is_canceled']*100).sort_values(ascending=False)"
   ]
  },
  {
   "cell_type": "code",
   "execution_count": 21,
   "metadata": {},
   "outputs": [],
   "source": [
    "del_data = (dataLE.corr()['is_canceled']*100).sort_values(ascending=False)\n",
    "del_col = del_data[(del_data < 10) & (del_data > -10) | (del_data.isnull())].index.values.tolist()\n",
    "data.drop(columns=del_col, inplace=True)\n",
    "dataLE.drop(columns=del_col, inplace=True)"
   ]
  },
  {
   "cell_type": "code",
   "execution_count": 22,
   "metadata": {
    "scrolled": true
   },
   "outputs": [
    {
     "data": {
      "text/html": [
       "<div>\n",
       "<style scoped>\n",
       "    .dataframe tbody tr th:only-of-type {\n",
       "        vertical-align: middle;\n",
       "    }\n",
       "\n",
       "    .dataframe tbody tr th {\n",
       "        vertical-align: top;\n",
       "    }\n",
       "\n",
       "    .dataframe thead th {\n",
       "        text-align: right;\n",
       "    }\n",
       "</style>\n",
       "<table border=\"1\" class=\"dataframe\">\n",
       "  <thead>\n",
       "    <tr style=\"text-align: right;\">\n",
       "      <th></th>\n",
       "      <th>is_canceled</th>\n",
       "      <th>arrival_date_year</th>\n",
       "      <th>arrival_date_week_number</th>\n",
       "      <th>booking_changes</th>\n",
       "      <th>days_in_waiting_list</th>\n",
       "      <th>required_car_parking_spaces</th>\n",
       "      <th>arrival_date_month_August</th>\n",
       "      <th>arrival_date_month_December</th>\n",
       "      <th>arrival_date_month_February</th>\n",
       "      <th>arrival_date_month_January</th>\n",
       "      <th>...</th>\n",
       "      <th>assigned_room_type_D</th>\n",
       "      <th>assigned_room_type_E</th>\n",
       "      <th>assigned_room_type_F</th>\n",
       "      <th>assigned_room_type_G</th>\n",
       "      <th>assigned_room_type_H</th>\n",
       "      <th>assigned_room_type_I</th>\n",
       "      <th>deposit_type_Non Refund</th>\n",
       "      <th>deposit_type_Refundable</th>\n",
       "      <th>reservation_status_Check-Out</th>\n",
       "      <th>reservation_status_No-Show</th>\n",
       "    </tr>\n",
       "  </thead>\n",
       "  <tbody>\n",
       "    <tr>\n",
       "      <th>0</th>\n",
       "      <td>0</td>\n",
       "      <td>-0.580893</td>\n",
       "      <td>-0.318919</td>\n",
       "      <td>4.563780</td>\n",
       "      <td>-0.130859</td>\n",
       "      <td>-0.320296</td>\n",
       "      <td>0</td>\n",
       "      <td>0</td>\n",
       "      <td>0</td>\n",
       "      <td>0</td>\n",
       "      <td>...</td>\n",
       "      <td>0</td>\n",
       "      <td>0</td>\n",
       "      <td>0</td>\n",
       "      <td>0</td>\n",
       "      <td>0</td>\n",
       "      <td>0</td>\n",
       "      <td>0</td>\n",
       "      <td>0</td>\n",
       "      <td>1</td>\n",
       "      <td>0</td>\n",
       "    </tr>\n",
       "    <tr>\n",
       "      <th>1</th>\n",
       "      <td>0</td>\n",
       "      <td>-0.580893</td>\n",
       "      <td>-0.318919</td>\n",
       "      <td>6.197718</td>\n",
       "      <td>-0.130859</td>\n",
       "      <td>-0.320296</td>\n",
       "      <td>0</td>\n",
       "      <td>0</td>\n",
       "      <td>0</td>\n",
       "      <td>0</td>\n",
       "      <td>...</td>\n",
       "      <td>0</td>\n",
       "      <td>0</td>\n",
       "      <td>0</td>\n",
       "      <td>0</td>\n",
       "      <td>0</td>\n",
       "      <td>0</td>\n",
       "      <td>0</td>\n",
       "      <td>0</td>\n",
       "      <td>1</td>\n",
       "      <td>0</td>\n",
       "    </tr>\n",
       "    <tr>\n",
       "      <th>2</th>\n",
       "      <td>0</td>\n",
       "      <td>-0.580893</td>\n",
       "      <td>-0.318919</td>\n",
       "      <td>-0.338034</td>\n",
       "      <td>-0.130859</td>\n",
       "      <td>-0.320296</td>\n",
       "      <td>0</td>\n",
       "      <td>0</td>\n",
       "      <td>0</td>\n",
       "      <td>0</td>\n",
       "      <td>...</td>\n",
       "      <td>0</td>\n",
       "      <td>0</td>\n",
       "      <td>0</td>\n",
       "      <td>0</td>\n",
       "      <td>0</td>\n",
       "      <td>0</td>\n",
       "      <td>0</td>\n",
       "      <td>0</td>\n",
       "      <td>1</td>\n",
       "      <td>0</td>\n",
       "    </tr>\n",
       "    <tr>\n",
       "      <th>3</th>\n",
       "      <td>0</td>\n",
       "      <td>-0.580893</td>\n",
       "      <td>-0.318919</td>\n",
       "      <td>-0.338034</td>\n",
       "      <td>-0.130859</td>\n",
       "      <td>-0.320296</td>\n",
       "      <td>0</td>\n",
       "      <td>0</td>\n",
       "      <td>0</td>\n",
       "      <td>0</td>\n",
       "      <td>...</td>\n",
       "      <td>0</td>\n",
       "      <td>0</td>\n",
       "      <td>0</td>\n",
       "      <td>0</td>\n",
       "      <td>0</td>\n",
       "      <td>0</td>\n",
       "      <td>0</td>\n",
       "      <td>0</td>\n",
       "      <td>1</td>\n",
       "      <td>0</td>\n",
       "    </tr>\n",
       "    <tr>\n",
       "      <th>4</th>\n",
       "      <td>0</td>\n",
       "      <td>-0.580893</td>\n",
       "      <td>-0.318919</td>\n",
       "      <td>-0.338034</td>\n",
       "      <td>-0.130859</td>\n",
       "      <td>-0.320296</td>\n",
       "      <td>0</td>\n",
       "      <td>0</td>\n",
       "      <td>0</td>\n",
       "      <td>0</td>\n",
       "      <td>...</td>\n",
       "      <td>0</td>\n",
       "      <td>0</td>\n",
       "      <td>0</td>\n",
       "      <td>0</td>\n",
       "      <td>0</td>\n",
       "      <td>0</td>\n",
       "      <td>0</td>\n",
       "      <td>0</td>\n",
       "      <td>1</td>\n",
       "      <td>0</td>\n",
       "    </tr>\n",
       "  </tbody>\n",
       "</table>\n",
       "<p>5 rows × 82 columns</p>\n",
       "</div>"
      ],
      "text/plain": [
       "   is_canceled  arrival_date_year  arrival_date_week_number  booking_changes  \\\n",
       "0            0          -0.580893                 -0.318919         4.563780   \n",
       "1            0          -0.580893                 -0.318919         6.197718   \n",
       "2            0          -0.580893                 -0.318919        -0.338034   \n",
       "3            0          -0.580893                 -0.318919        -0.338034   \n",
       "4            0          -0.580893                 -0.318919        -0.338034   \n",
       "\n",
       "   days_in_waiting_list  required_car_parking_spaces  \\\n",
       "0             -0.130859                    -0.320296   \n",
       "1             -0.130859                    -0.320296   \n",
       "2             -0.130859                    -0.320296   \n",
       "3             -0.130859                    -0.320296   \n",
       "4             -0.130859                    -0.320296   \n",
       "\n",
       "   arrival_date_month_August  arrival_date_month_December  \\\n",
       "0                          0                            0   \n",
       "1                          0                            0   \n",
       "2                          0                            0   \n",
       "3                          0                            0   \n",
       "4                          0                            0   \n",
       "\n",
       "   arrival_date_month_February  arrival_date_month_January  ...  \\\n",
       "0                            0                           0  ...   \n",
       "1                            0                           0  ...   \n",
       "2                            0                           0  ...   \n",
       "3                            0                           0  ...   \n",
       "4                            0                           0  ...   \n",
       "\n",
       "   assigned_room_type_D  assigned_room_type_E  assigned_room_type_F  \\\n",
       "0                     0                     0                     0   \n",
       "1                     0                     0                     0   \n",
       "2                     0                     0                     0   \n",
       "3                     0                     0                     0   \n",
       "4                     0                     0                     0   \n",
       "\n",
       "   assigned_room_type_G  assigned_room_type_H  assigned_room_type_I  \\\n",
       "0                     0                     0                     0   \n",
       "1                     0                     0                     0   \n",
       "2                     0                     0                     0   \n",
       "3                     0                     0                     0   \n",
       "4                     0                     0                     0   \n",
       "\n",
       "   deposit_type_Non Refund  deposit_type_Refundable  \\\n",
       "0                        0                        0   \n",
       "1                        0                        0   \n",
       "2                        0                        0   \n",
       "3                        0                        0   \n",
       "4                        0                        0   \n",
       "\n",
       "   reservation_status_Check-Out  reservation_status_No-Show  \n",
       "0                             1                           0  \n",
       "1                             1                           0  \n",
       "2                             1                           0  \n",
       "3                             1                           0  \n",
       "4                             1                           0  \n",
       "\n",
       "[5 rows x 82 columns]"
      ]
     },
     "execution_count": 22,
     "metadata": {},
     "output_type": "execute_result"
    }
   ],
   "source": [
    "data.head()"
   ]
  },
  {
   "cell_type": "code",
   "execution_count": 36,
   "metadata": {},
   "outputs": [],
   "source": [
    "# Выполняем one-hot encoding и масштабирование\n",
    "col_num = data.dtypes[data.dtypes!=object].index.values.tolist()\n",
    "col_num.remove('is_canceled')\n",
    "se = StandardScaler()\n",
    "data[col_num] = se.fit_transform(data[col_num])\n",
    "data = pd.get_dummies(data, drop_first=True)\n",
    "\n"
   ]
  },
  {
   "cell_type": "code",
   "execution_count": 37,
   "metadata": {},
   "outputs": [],
   "source": [
    "dataLE_X = dataLE.drop(columns='is_canceled')\n",
    "dataLE_y = dataLE['is_canceled']\n",
    "data_X = data.drop(columns='is_canceled')\n",
    "data_y = data['is_canceled']"
   ]
  },
  {
   "cell_type": "code",
   "execution_count": 39,
   "metadata": {},
   "outputs": [],
   "source": [
    "dataLE_X_train, dataLE_X_test, dataLE_y_train, dataLE_y_test = train_test_split(dataLE_X, dataLE_y, \\\n",
    "                                                                                test_size = 0.3, \\\n",
    "                                                                                random_state= 1)\n",
    "data_X_train, data_X_test, data_y_train, data_y_test = train_test_split(data_X, data_y, \\\n",
    "                                                                        test_size = 0.3, \\\n",
    "                                                                        random_state= 1)"
   ]
  },
  {
   "cell_type": "code",
   "execution_count": 40,
   "metadata": {},
   "outputs": [],
   "source": [
    "def print_metrics(X_train, Y_train, X_test, Y_test, clf):\n",
    "    clf.fit(X_train, Y_train)\n",
    "    target = clf.predict(X_test)\n",
    "    print(f'Сбалансированная оценка: {balanced_accuracy_score(Y_test, target)}')\n",
    "    fig, ax = plt.subplots()\n",
    "    plot_roc_curve(clf, X_test, Y_test, ax=ax)\n",
    "    ax.plot([0, 1], [0, 1], linestyle='--', lw=2, color='r',\n",
    "            label='Chance', alpha=.8)\n",
    "    ax.set(xlim=[-0.05, 1.05], ylim=[-0.05, 1.05],\n",
    "           title=\"Receiver operating characteristic\")\n",
    "    ax.legend(loc=\"lower right\")\n",
    "    plt.show()\n",
    "    print(f'Матрица ошибок:\\n {confusion_matrix(Y_test, target)}')"
   ]
  },
  {
   "cell_type": "code",
   "execution_count": 41,
   "metadata": {},
   "outputs": [
    {
     "name": "stdout",
     "output_type": "stream",
     "text": [
      "Сбалансированная оценка: 1.0\n"
     ]
    },
    {
     "data": {
      "image/png": "[encoded data removed]",
      "text/plain": [
       "<Figure size 432x288 with 1 Axes>"
      ]
     },
     "metadata": {
      "needs_background": "light"
     },
     "output_type": "display_data"
    },
    {
     "name": "stdout",
     "output_type": "stream",
     "text": [
      "Матрица ошибок:\n",
      " [[810   0]\n",
      " [  0 690]]\n"
     ]
    }
   ],
   "source": [
    "print_metrics(data_X_train, data_y_train, data_X_test, data_y_test, LogisticRegression())"
   ]
  },
  {
   "cell_type": "code",
   "execution_count": 42,
   "metadata": {},
   "outputs": [
    {
     "name": "stdout",
     "output_type": "stream",
     "text": [
      "Сбалансированная оценка: 1.0\n"
     ]
    },
    {
     "data": {
      "image/png": "[encoded data removed]",
      "text/plain": [
       "<Figure size 432x288 with 1 Axes>"
      ]
     },
     "metadata": {
      "needs_background": "light"
     },
     "output_type": "display_data"
    },
    {
     "name": "stdout",
     "output_type": "stream",
     "text": [
      "Матрица ошибок:\n",
      " [[810   0]\n",
      " [  0 690]]\n"
     ]
    }
   ],
   "source": [
    "print_metrics(dataLE_X_train, dataLE_y_train, dataLE_X_test, dataLE_y_test, GradientBoostingClassifier(random_state=1))"
   ]
  },
  {
   "cell_type": "markdown",
   "metadata": {},
   "source": [
    "### Вывод\n",
    "В качестве вывода об оценке качества моделей можно указать, что обе модели показали схожие результаты, а ошибки вызванные неверным определением некоторых классов могут быть вызваны неравномерностью распределения классов в датасете или при разбиении датасета на тренировочную и тестовую выборки"
   ]
  },
  {
   "cell_type": "code",
   "execution_count": null,
   "metadata": {},
   "outputs": [],
   "source": []
  }
 ],
 "metadata": {
  "kernelspec": {
   "display_name": "Python 3",
   "language": "python",
   "name": "python3"
  },
  "language_info": {
   "codemirror_mode": {
    "name": "ipython",
    "version": 3
   },
   "file_extension": ".py",
   "mimetype": "text/x-python",
   "name": "python",
   "nbconvert_exporter": "python",
   "pygments_lexer": "ipython3",
   "version": "3.8.5"
  }
 },
 "nbformat": 4,
 "nbformat_minor": 4
}
